{
 "cells": [
  {
   "cell_type": "markdown",
   "id": "c690e36d",
   "metadata": {},
   "source": [
    "# Numpy Introduction"
   ]
  },
  {
   "cell_type": "code",
   "execution_count": null,
   "id": "3dcc9a07",
   "metadata": {},
   "outputs": [
    {
     "name": "stdout",
     "output_type": "stream",
     "text": [
      "Requirement already satisfied: numpy in d:\\miniconda\\envs\\ml_env\\lib\\site-packages (2.2.4)\n",
      "Note: you may need to restart the kernel to use updated packages.\n"
     ]
    }
   ],
   "source": [
    "# Install numpy using pip\n",
    "pip install numpy"
   ]
  },
  {
   "cell_type": "code",
   "execution_count": 2,
   "id": "11492e8b",
   "metadata": {},
   "outputs": [],
   "source": [
    "# Import necessary libraries\n",
    "import numpy as np\n"
   ]
  },
  {
   "cell_type": "markdown",
   "id": "07cb70d2",
   "metadata": {},
   "source": [
    "# What is an Array?\n"
   ]
  },
  {
   "cell_type": "markdown",
   "id": "7994aa99",
   "metadata": {},
   "source": [
    "An array is a data structure that can hold multiple values of the same type. It is a collection of items stored at contiguous memory locations. The main advantage of using arrays is that they allow you to store and manipulate large amounts of data efficiently.\n"
   ]
  },
  {
   "cell_type": "code",
   "execution_count": 21,
   "id": "38ec9391",
   "metadata": {},
   "outputs": [
    {
     "name": "stdout",
     "output_type": "stream",
     "text": [
      "[0 1 2 3 4 5]\n"
     ]
    },
    {
     "data": {
      "text/plain": [
       "numpy.ndarray"
      ]
     },
     "execution_count": 21,
     "metadata": {},
     "output_type": "execute_result"
    }
   ],
   "source": [
    "a= np.arange(6)\n",
    "print(a)\n",
    "a.shape\n",
    "a.dtype\n",
    "type(a)"
   ]
  },
  {
   "cell_type": "code",
   "execution_count": 24,
   "id": "cd006ede",
   "metadata": {},
   "outputs": [
    {
     "name": "stdout",
     "output_type": "stream",
     "text": [
      "[[0 1 2 3 4 5]]\n"
     ]
    },
    {
     "data": {
      "text/plain": [
       "numpy.ndarray"
      ]
     },
     "execution_count": 24,
     "metadata": {},
     "output_type": "execute_result"
    }
   ],
   "source": [
    "a2=a[np.newaxis, :]\n",
    "print(a2)\n",
    "a2.shape\n",
    "a2.dtype\n",
    "type(a2)"
   ]
  },
  {
   "cell_type": "code",
   "execution_count": 6,
   "id": "0992bdba",
   "metadata": {},
   "outputs": [
    {
     "name": "stdout",
     "output_type": "stream",
     "text": [
      "[[[0 1 2 3 4 5]]]\n"
     ]
    },
    {
     "data": {
      "text/plain": [
       "(1, 1, 6)"
      ]
     },
     "execution_count": 6,
     "metadata": {},
     "output_type": "execute_result"
    }
   ],
   "source": [
    "a3=a2[np.newaxis, :]\n",
    "print(a3)\n",
    "a3.shape"
   ]
  },
  {
   "cell_type": "markdown",
   "id": "afa2de7f",
   "metadata": {},
   "source": [
    "## Creating array with numpy"
   ]
  },
  {
   "cell_type": "code",
   "execution_count": 11,
   "id": "6226c5a6",
   "metadata": {},
   "outputs": [
    {
     "name": "stdout",
     "output_type": "stream",
     "text": [
      "[1 2 3 4 5 6 7]\n"
     ]
    },
    {
     "data": {
      "text/plain": [
       "(7,)"
      ]
     },
     "execution_count": 11,
     "metadata": {},
     "output_type": "execute_result"
    }
   ],
   "source": [
    "a=np.array([1, 2, 3, 4, 5,6,7])\n",
    "b=np.array([(1, 2, 3, 4, 5,6,7), (4,5,6,7,8, 9, 10)])\n",
    "print(a)\n",
    "a.shape\n"
   ]
  },
  {
   "cell_type": "code",
   "execution_count": 12,
   "id": "8fe7ed4e",
   "metadata": {},
   "outputs": [
    {
     "name": "stdout",
     "output_type": "stream",
     "text": [
      "[[ 1  2  3  4  5  6  7]\n",
      " [ 4  5  6  7  8  9 10]]\n"
     ]
    },
    {
     "data": {
      "text/plain": [
       "(2, 7)"
      ]
     },
     "execution_count": 12,
     "metadata": {},
     "output_type": "execute_result"
    }
   ],
   "source": [
    "\n",
    "print(b)\n",
    "b.shape"
   ]
  },
  {
   "cell_type": "markdown",
   "id": "cccdb33b",
   "metadata": {},
   "source": [
    "# Intialize arrays"
   ]
  },
  {
   "cell_type": "code",
   "execution_count": 14,
   "id": "6f7f3c48",
   "metadata": {},
   "outputs": [
    {
     "name": "stdout",
     "output_type": "stream",
     "text": [
      "[[0. 0. 0. 0.]\n",
      " [0. 0. 0. 0.]\n",
      " [0. 0. 0. 0.]]\n"
     ]
    }
   ],
   "source": [
    "zeros=np.zeros((3, 4)) # 3 rows, 4 columns\n",
    "print(zeros)"
   ]
  },
  {
   "cell_type": "code",
   "execution_count": 15,
   "id": "7c00c809",
   "metadata": {},
   "outputs": [
    {
     "name": "stdout",
     "output_type": "stream",
     "text": [
      "[[1. 1. 1. 1.]\n",
      " [1. 1. 1. 1.]\n",
      " [1. 1. 1. 1.]]\n"
     ]
    }
   ],
   "source": [
    "ones=np.ones((3, 4)) # 3 rows, 4 columns\n",
    "print(ones)"
   ]
  },
  {
   "cell_type": "code",
   "execution_count": 17,
   "id": "8dce69e7",
   "metadata": {},
   "outputs": [
    {
     "name": "stdout",
     "output_type": "stream",
     "text": [
      "[[5 5 5 5]\n",
      " [5 5 5 5]\n",
      " [5 5 5 5]]\n"
     ]
    }
   ],
   "source": [
    "full = np.full((3, 4), 5) # 3 rows, 4 columns, filled with 5\n",
    "print(full)"
   ]
  },
  {
   "cell_type": "code",
   "execution_count": 19,
   "id": "c2eb3320",
   "metadata": {},
   "outputs": [
    {
     "name": "stdout",
     "output_type": "stream",
     "text": [
      "[[1. 0. 0. 0. 0.]\n",
      " [0. 1. 0. 0. 0.]\n",
      " [0. 0. 1. 0. 0.]\n",
      " [0. 0. 0. 1. 0.]\n",
      " [0. 0. 0. 0. 1.]]\n"
     ]
    },
    {
     "data": {
      "text/plain": [
       "dtype('float64')"
      ]
     },
     "execution_count": 19,
     "metadata": {},
     "output_type": "execute_result"
    }
   ],
   "source": [
    "# creating an identity matrix\n",
    "identity = np.eye(5)\n",
    "print(identity) \n",
    "identity.dtype"
   ]
  },
  {
   "cell_type": "code",
   "execution_count": null,
   "id": "7ce39456",
   "metadata": {},
   "outputs": [],
   "source": []
  }
 ],
 "metadata": {
  "kernelspec": {
   "display_name": "ml_env",
   "language": "python",
   "name": "python3"
  },
  "language_info": {
   "codemirror_mode": {
    "name": "ipython",
    "version": 3
   },
   "file_extension": ".py",
   "mimetype": "text/x-python",
   "name": "python",
   "nbconvert_exporter": "python",
   "pygments_lexer": "ipython3",
   "version": "3.13.2"
  }
 },
 "nbformat": 4,
 "nbformat_minor": 5
}
