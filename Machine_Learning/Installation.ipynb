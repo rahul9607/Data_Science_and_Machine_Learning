{
 "cells": [
  {
   "cell_type": "markdown",
   "id": "1fee7032",
   "metadata": {},
   "source": [
    "# Steps: \n",
    "1. create a new conda environment Python_ML\n",
    "2. install following packages:\n",
    "    1. Python \n",
    "        1. pandas \n",
    "        2. numpy\n",
    "        3. matplotlib\n",
    "        4. seaborn\n",
    "        5. scipy\n",
    "        6. scikit-learn\n",
    "        7. jupyter\n",
    "        8. openpyxl\n",
    "        9. plotly\n",
    "\n",
    "\n"
   ]
  },
  {
   "cell_type": "markdown",
   "id": "d364ffa6",
   "metadata": {},
   "source": [
    "# install all library\n",
    "pip install pandas numpy matplotlib seaborn scipy scikit-Learn jupyter openpyxl plotly "
   ]
  },
  {
   "cell_type": "code",
   "execution_count": 1,
   "id": "2ec6f894",
   "metadata": {},
   "outputs": [],
   "source": [
    "import pandas as pd \n",
    "import numpy as np \n",
    "import matplotlib as plt\n",
    "import seaborn as sns\n",
    "import scipy as sp\n",
    "import sklearn as sk\n",
    "import jupyter as jp\n",
    "import openpyxl as op\n",
    "import plotly as pl"
   ]
  }
 ],
 "metadata": {
  "kernelspec": {
   "display_name": "base",
   "language": "python",
   "name": "python3"
  },
  "language_info": {
   "codemirror_mode": {
    "name": "ipython",
    "version": 3
   },
   "file_extension": ".py",
   "mimetype": "text/x-python",
   "name": "python",
   "nbconvert_exporter": "python",
   "pygments_lexer": "ipython3",
   "version": "3.13.5"
  }
 },
 "nbformat": 4,
 "nbformat_minor": 5
}
